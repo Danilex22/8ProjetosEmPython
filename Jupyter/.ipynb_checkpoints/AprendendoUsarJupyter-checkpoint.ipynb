{
 "cells": [
  {
   "cell_type": "markdown",
   "id": "86ba5d41",
   "metadata": {},
   "source": [
    "Texto explicativo do que eu vou fazer no meu Código"
   ]
  },
  {
   "cell_type": "code",
   "execution_count": 3,
   "id": "dabff53e",
   "metadata": {
    "scrolled": true
   },
   "outputs": [
    {
     "name": "stdout",
     "output_type": "stream",
     "text": [
      "Danilo\n",
      "Teste\n"
     ]
    }
   ],
   "source": [
    "print(\"Danilo\")\n",
    "print(\"Teste\")"
   ]
  },
  {
   "cell_type": "code",
   "execution_count": 2,
   "id": "1fdb69a3",
   "metadata": {},
   "outputs": [
    {
     "name": "stdout",
     "output_type": "stream",
     "text": [
      "teste\n"
     ]
    }
   ],
   "source": [
    "print(\"teste\")"
   ]
  },
  {
   "cell_type": "code",
   "execution_count": null,
   "id": "d388aea2",
   "metadata": {},
   "outputs": [],
   "source": []
  }
 ],
 "metadata": {
  "kernelspec": {
   "display_name": "Python 3 (ipykernel)",
   "language": "python",
   "name": "python3"
  },
  "language_info": {
   "codemirror_mode": {
    "name": "ipython",
    "version": 3
   },
   "file_extension": ".py",
   "mimetype": "text/x-python",
   "name": "python",
   "nbconvert_exporter": "python",
   "pygments_lexer": "ipython3",
   "version": "3.9.12"
  }
 },
 "nbformat": 4,
 "nbformat_minor": 5
}
